{
 "metadata": {
  "language_info": {
   "codemirror_mode": {
    "name": "ipython",
    "version": 3
   },
   "file_extension": ".py",
   "mimetype": "text/x-python",
   "name": "python",
   "nbconvert_exporter": "python",
   "pygments_lexer": "ipython3",
   "version": "3.8.3-final"
  },
  "orig_nbformat": 2,
  "kernelspec": {
   "name": "python3",
   "display_name": "Python 3.8.3 64-bit ('transformer': conda)",
   "metadata": {
    "interpreter": {
     "hash": "d0c581f552870128e643fa5d90873e1c0b3206e5e070517b42e73fec9b0f9803"
    }
   }
  }
 },
 "nbformat": 4,
 "nbformat_minor": 2,
 "cells": [
  {
   "cell_type": "code",
   "execution_count": 15,
   "metadata": {},
   "outputs": [
    {
     "output_type": "stream",
     "name": "stdout",
     "text": [
      "Original Tensor: tensor([0.8607, 0.4219, 0.9005, 0.5790, 0.4921, 0.6026, 0.9697, 0.9909, 0.7613,\n        0.1932, 0.4684, 0.8993, 0.2802, 0.5900, 0.5585, 0.4068, 0.5831, 0.6937,\n        0.0021, 0.4748, 0.4640, 0.8454, 0.0928, 0.9211, 0.1512, 0.9276, 0.2403,\n        0.0643, 0.7162, 0.1902, 0.6921, 0.8285, 0.5555, 0.1615, 0.3853, 0.1961,\n        0.8810, 0.0134, 0.0977, 0.7240, 0.5545, 0.4392, 0.7805, 0.6160, 0.6075,\n        0.0975, 0.1114, 0.9440, 0.9235, 0.1202, 0.1412, 0.2492, 0.4327, 0.2541,\n        0.5873, 0.1010, 0.9968, 0.0293, 0.8505, 0.7274])\n50\ntorch.Size([5, 60])\n"
     ]
    }
   ],
   "source": [
    "import torch\n",
    "import math\n",
    "import numpy as np\n",
    "\n",
    "length = 300\n",
    "batch_size = 5\n",
    "seq_len = 10\n",
    "num_batches = math.ceil(length/batch_size)\n",
    "\n",
    "t = torch.rand(num_batches)\n",
    "print('Original Tensor:', t)\n",
    "\n",
    "order = np.array(range(num_batches))\n",
    "np.random.shuffle(order)\n",
    "print('Order:', order)\n",
    "\n",
    "# in-place changing of values\n",
    "t[np.array(range(num_batches))] = t[order]\n",
    "# print('New Tensor:', t)\n",
    "\n",
    "chunk_len = seq_len * batch_size\n",
    "print(chunk_len)\n",
    "data = torch.arange(0, length)\n",
    "data = batchify(data, batch_size)\n",
    "print(data.shape)\n",
    "# print(data)\n",
    "\n",
    "# length = 15\n",
    "# bs = 5\n",
    "# math.ceil(length/bs)\n",
    "\n",
    "\n",
    "\n"
   ]
  },
  {
   "cell_type": "code",
   "execution_count": 12,
   "metadata": {},
   "outputs": [],
   "source": [
    "def batchify(data, batch_size):\n",
    "        # Divide the dataset into batch_size parts.\n",
    "        nbatch = data.size(0) // batch_size\n",
    "        # Trim off any extra elements that wouldn't cleanly fit (remainders).\n",
    "        data = data.narrow(0, 0, nbatch * batch_size)\n",
    "        # Evenly divide the data across the batch_size batches.\n",
    "        # data = data.view(-1, self.batch_size).contiguous()\n",
    "        data = data.view(batch_size, -1).contiguous()\n",
    "        return data"
   ]
  },
  {
   "cell_type": "code",
   "execution_count": 25,
   "metadata": {},
   "outputs": [
    {
     "output_type": "stream",
     "name": "stdout",
     "text": [
      "0\n[0.13365081437851511]\n0.13365081437851511\n1\n[0.13365081437851511, 0.06536402808879316]\n0.19901484246730827\n2\n[0.13365081437851511, 0.06536402808879316, 0.5599990438158355]\n0.7590138862831438\n3\n[0.13365081437851511, 0.06536402808879316, 0.5599990438158355, 0.9038994197638707]\n1.6629133060470145\n4\n[0.13365081437851511, 0.06536402808879316, 0.5599990438158355, 0.9038994197638707, 0.65861131474533]\n2.3215246207923443\n5\n[0.13365081437851511, 0.06536402808879316, 0.5599990438158355, 0.9038994197638707, 0.65861131474533, 0.40354832771211113]\n2.7250729485044554\n6\n[0.13365081437851511, 0.06536402808879316, 0.5599990438158355, 0.9038994197638707, 0.65861131474533, 0.40354832771211113, 0.2800067879722493]\n3.005079736476705\n7\n[0.13365081437851511, 0.06536402808879316, 0.5599990438158355, 0.9038994197638707, 0.65861131474533, 0.40354832771211113, 0.2800067879722493, 0.4024975281596377]\n3.4075772646363425\n8\n[0.13365081437851511, 0.06536402808879316, 0.5599990438158355, 0.9038994197638707, 0.65861131474533, 0.40354832771211113, 0.2800067879722493, 0.4024975281596377, 0.4009059697326851]\n3.8084832343690276\n9\n[0.13365081437851511, 0.06536402808879316, 0.5599990438158355, 0.9038994197638707, 0.65861131474533, 0.40354832771211113, 0.2800067879722493, 0.4024975281596377, 0.4009059697326851, 0.8990716454080975]\n4.707554879777125\n"
     ]
    }
   ],
   "source": [
    "import random\n",
    "import numpy as np\n",
    "trials = 10\n",
    "\n",
    "values = []\n",
    "sums = []\n",
    "for trial in range(0, trials):\n",
    "    print(trial)\n",
    "    \n",
    "    print(values)\n",
    "    print(np.sum(values))\n",
    "    while(np.sum(values) < 1)\n",
    "        guess = random.uniform(0, 1)\n",
    "        values.append(guess)\n",
    "    "
   ]
  },
  {
   "cell_type": "code",
   "execution_count": null,
   "metadata": {},
   "outputs": [],
   "source": []
  }
 ]
}