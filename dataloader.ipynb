{
 "metadata": {
  "language_info": {
   "codemirror_mode": {
    "name": "ipython",
    "version": 3
   },
   "file_extension": ".py",
   "mimetype": "text/x-python",
   "name": "python",
   "nbconvert_exporter": "python",
   "pygments_lexer": "ipython3",
   "version": "3.8.3-final"
  },
  "orig_nbformat": 2,
  "kernelspec": {
   "name": "python3",
   "display_name": "Python 3.8.3 64-bit ('transformer': conda)",
   "metadata": {
    "interpreter": {
     "hash": "d0c581f552870128e643fa5d90873e1c0b3206e5e070517b42e73fec9b0f9803"
    }
   }
  }
 },
 "nbformat": 4,
 "nbformat_minor": 2,
 "cells": [
  {
   "cell_type": "code",
   "execution_count": 22,
   "metadata": {},
   "outputs": [],
   "source": [
    "import time\n",
    "\n",
    "import torch\n",
    "from torch.utils.data import DataLoader\n",
    "\n",
    "from torchtext import datasets\n",
    "from torchtext.data import Field\n",
    "from torchtext.data.utils import get_tokenizer\n",
    "\n",
    "from transformers import AutoTokenizer\n",
    "\n",
    "from utils import extract_config\n",
    "from constants import *\n",
    "\n",
    "import lineflow.datasets as lfds\n",
    "from transformer_pl import *"
   ]
  },
  {
   "cell_type": "code",
   "execution_count": 23,
   "metadata": {},
   "outputs": [],
   "source": [
    "    config = {\n",
    "        \"embedding_dimension\": 200,\n",
    "        \"ff_dimension\": 200,\n",
    "        \"n_attention_heads\": 2,\n",
    "        \"n_encoder_layers\": 0,\n",
    "        \"n_decoder_layers\": 2,\n",
    "        \"dataset\": Dataset.PennTreebank.name,\n",
    "        \"segmentation\": Segmentation.Word.name,\n",
    "        \"max_seq_len\": 35,\n",
    "        \"batch_size\": 20,\n",
    "        \"eval_batch_size\": 10,\n",
    "        \"dropout\": 0.2,\n",
    "        \"n_epochs\": 3,\n",
    "        \"learning_rate\": 0.0001,\n",
    "        \"adam_b1\": 0.9,\n",
    "        \"adam_b2\": 0.999,\n",
    "        \"adam_l2_weightdecay\": 0.01,\n",
    "        \"loss_criterion\": \"CrossEntropyLoss\"\n",
    "    }"
   ]
  },
  {
   "cell_type": "code",
   "execution_count": 24,
   "metadata": {},
   "outputs": [
    {
     "output_type": "stream",
     "name": "stdout",
     "text": [
      "[Start Load Data]\n",
      "Fetched Data (0.000006s)\n",
      "Tokenized and Split Data (0.684909s)\n"
     ]
    }
   ],
   "source": [
    "def load_data_word(config):\n",
    "    print(\"[Start Load Data]\")\n",
    "    ts = time.time()\n",
    "\n",
    "    # get dataset\n",
    "    dataset, segmentation = extract_config(config, \"dataset\", \"segmentation\")\n",
    "    dataset = getattr(datasets, dataset)\n",
    "    print(f\"Fetched Data ({time.time() - ts:3f}s)\")\n",
    "\n",
    "\n",
    "    # # tokenize\n",
    "    tokenizer = get_tokenizer('basic_english')\n",
    "    field_processor = Field(tokenize=tokenizer)\n",
    "\n",
    "    # print(dataset.__dict__.keys())\n",
    "    # print(dataset.__dict__)\n",
    "    # print(dataset('./.data/ptb.train.txt', Field()))\n",
    "\n",
    "\n",
    "    # split dataset\n",
    "    train_dataset, val_dataset, test_dataset = dataset.splits(\n",
    "        text_field=field_processor)\n",
    "    print(f\"Tokenized and Split Data ({time.time() - ts:3f}s)\")\n",
    "\n",
    "    # print(train_dataset)\n",
    "    \n",
    "    train_dataloader = DataLoader(train_dataset)\n",
    "    val_dataloader = DataLoader(val_dataset)\n",
    "    test_dataloader = DataLoader(test_dataset)\n",
    "\n",
    "    # return train_dataloader\n",
    "    # get vocabulary\n",
    "    field_processor.build_vocab(\n",
    "        train_dataset, val_dataset, test_dataset, min_freq=1)\n",
    "    vocab = field_processor.vocab\n",
    "    print(f\"Built Vocab ({time.time() - ts:3f}s)\")\n",
    "\n",
    "    # def data_process(tt_dataset_split):\n",
    "    #     raw_text_iter = tt_dataset_split[0].text\n",
    "    #     data = [torch.tensor([vocab[token] for token in tokenizer(item)],\n",
    "    #                          dtype=torch.long) for item in raw_text_iter]\n",
    "    #     return torch.cat(tuple(filter(lambda t: t.numel() > 0, data)))\n",
    "\n",
    "    # train_data = data_process(train_dataset)\n",
    "    # val_data = data_process(val_dataset)\n",
    "    # test_data = data_process(test_dataset)\n",
    "\n",
    "    # print(f\"[End Load Data] ({time.time() - ts:3f}s)\")\n",
    "    return train_dataloader, val_dataloader, test_dataloader, vocab\n",
    "\n",
    "train_dataloader, val_dataloader, test_dataloader, vocab = load_data_word(config)\n",
    "ntokens = len(vocab.stoi)\n"
   ]
  },
  {
   "cell_type": "code",
   "execution_count": 25,
   "metadata": {},
   "outputs": [
    {
     "output_type": "error",
     "ename": "TypeError",
     "evalue": "__init__() missing 2 required positional arguments: 'config' and 'ntokens'",
     "traceback": [
      "\u001b[0;31m---------------------------------------------------------------------------\u001b[0m",
      "\u001b[0;31mTypeError\u001b[0m                                 Traceback (most recent call last)",
      "\u001b[0;32m<ipython-input-25-c1555dfc4a62>\u001b[0m in \u001b[0;36m<module>\u001b[0;34m\u001b[0m\n\u001b[1;32m      1\u001b[0m \u001b[0;31m# init model\u001b[0m\u001b[0;34m\u001b[0m\u001b[0;34m\u001b[0m\u001b[0;34m\u001b[0m\u001b[0m\n\u001b[0;32m----> 2\u001b[0;31m \u001b[0mmodel\u001b[0m \u001b[0;34m=\u001b[0m \u001b[0mDecoderOnlyTransformer\u001b[0m\u001b[0;34m(\u001b[0m\u001b[0;34m)\u001b[0m\u001b[0;34m\u001b[0m\u001b[0;34m\u001b[0m\u001b[0m\n\u001b[0m\u001b[1;32m      3\u001b[0m \u001b[0;34m\u001b[0m\u001b[0m\n\u001b[1;32m      4\u001b[0m \u001b[0;31m# most basic trainer, uses good defaults (auto-tensorboard, checkpoints, logs, and more)\u001b[0m\u001b[0;34m\u001b[0m\u001b[0;34m\u001b[0m\u001b[0;34m\u001b[0m\u001b[0m\n\u001b[1;32m      5\u001b[0m \u001b[0;31m# trainer = pl.Trainer(gpus=8) (if you have GPUs)\u001b[0m\u001b[0;34m\u001b[0m\u001b[0;34m\u001b[0m\u001b[0;34m\u001b[0m\u001b[0m\n",
      "\u001b[0;31mTypeError\u001b[0m: __init__() missing 2 required positional arguments: 'config' and 'ntokens'"
     ]
    }
   ],
   "source": [
    "# init model\n",
    "model = DecoderOnlyTransformer(config, ntokens)\n",
    "\n",
    "# most basic trainer, uses good defaults (auto-tensorboard, checkpoints, logs, and more)\n",
    "# trainer = pl.Trainer(gpus=8) (if you have GPUs)\n",
    "trainer = pl.Trainer()\n",
    "trainer.fit(model, train_loader)"
   ]
  }
 ]
}