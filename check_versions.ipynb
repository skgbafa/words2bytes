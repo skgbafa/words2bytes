{
 "metadata": {
  "language_info": {
   "codemirror_mode": {
    "name": "ipython",
    "version": 3
   },
   "file_extension": ".py",
   "mimetype": "text/x-python",
   "name": "python",
   "nbconvert_exporter": "python",
   "pygments_lexer": "ipython3",
   "version": "3.8.3"
  },
  "orig_nbformat": 2,
  "kernelspec": {
   "name": "python3",
   "display_name": "Python 3.8.3 64-bit ('transformer': conda)",
   "metadata": {
    "interpreter": {
     "hash": "d0c581f552870128e643fa5d90873e1c0b3206e5e070517b42e73fec9b0f9803"
    }
   }
  }
 },
 "nbformat": 4,
 "nbformat_minor": 2,
 "cells": [
  {
   "cell_type": "code",
   "execution_count": 12,
   "metadata": {},
   "outputs": [
    {
     "output_type": "stream",
     "name": "stdout",
     "text": [
      "torch.__version__     1.7.0\nwandb.__version__     0.10.24\nnumpy.__version__     1.18.4\ntorchtext.__version__     0.8.0a0+cd6902d\ntokenizers.__version__     0.10.1\npytorch_lightning.__version__     1.2.6\n"
     ]
    }
   ],
   "source": [
    "import torch \n",
    "import wandb\n",
    "import numpy\n",
    "import torchtext\n",
    "import tokenizers\n",
    "import pytorch_lightning\n",
    "\n",
    "print(\"torch.__version__    \", torch.__version__)\n",
    "print(\"wandb.__version__    \", wandb.__version__)\n",
    "print(\"numpy.__version__    \", numpy.__version__)\n",
    "print(\"torchtext.__version__    \", torchtext.__version__)\n",
    "print(\"tokenizers.__version__    \", tokenizers.__version__)\n",
    "print(\"pytorch_lightning.__version__    \", pytorch_lightning.__version__)\n",
    "\n",
    "\n"
   ]
  },
  {
   "cell_type": "code",
   "execution_count": 8,
   "metadata": {},
   "outputs": [
    {
     "output_type": "stream",
     "name": "stdout",
     "text": [
      "torch.__version__:  1.7.0\n"
     ]
    }
   ],
   "source": [
    "print(\"torch.__version__: \", torch.__version__)\n"
   ]
  },
  {
   "cell_type": "code",
   "execution_count": null,
   "metadata": {},
   "outputs": [],
   "source": []
  }
 ]
}